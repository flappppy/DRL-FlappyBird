{
 "cells": [
  {
   "cell_type": "code",
   "execution_count": 2,
   "metadata": {},
   "outputs": [],
   "source": [
    "import pandas as pd\n",
    "import numpy as np\n",
    "import seaborn as sns\n",
    "import matplotlib\n",
    "import matplotlib.pyplot as plt\n",
    "import json\n",
    "\n",
    "plt.rcParams['figure.figsize'] = (6.0, 4.0) \n",
    "plt.rcParams['savefig.dpi'] = 300 #图片像素\n",
    "plt.rcParams['figure.dpi'] = 300 #分辨率\n",
    "matplotlib.rcParams['agg.path.chunksize'] = 10000"
   ]
  },
  {
   "cell_type": "code",
   "execution_count": 26,
   "metadata": {},
   "outputs": [
    {
     "name": "stdout",
     "output_type": "stream",
     "text": [
      "98\n",
      "5.867272727272727\n"
     ]
    },
    {
     "data": {
      "text/plain": [
       "[<matplotlib.lines.Line2D at 0x11d36f908>]"
      ]
     },
     "execution_count": 26,
     "metadata": {},
     "output_type": "execute_result"
    },
    {
     "data": {
      "image/png": "[encoded data removed]",
      "text/plain": [
       "<Figure size 432x288 with 1 Axes>"
      ]
     },
     "metadata": {
      "needs_background": "light"
     },
     "output_type": "display_data"
    }
   ],
   "source": [
    "with open(\"./record_epsilon.json\",'r') as load_f:\n",
    "     Qlearn_Ep = json.load(load_f)\n",
    "load_f.close()\n",
    "\n",
    "print(max(Qlearn_Ep.values()))\n",
    "Len = len( Qlearn_Ep )\n",
    "Sum = sum( Qlearn_Ep.values() )\n",
    "print(Sum/Len)\n",
    "\n",
    "\n",
    "plt.plot([i for i in Qlearn_Ep.keys()][:1000], [i for i in Qlearn_Ep.values()][:1000])\n",
    "# plt.savefig(\"Qlearn_Ep_result.png\")"
   ]
  },
  {
   "cell_type": "code",
   "execution_count": 8,
   "metadata": {},
   "outputs": [
    {
     "name": "stdout",
     "output_type": "stream",
     "text": [
      "4171\n",
      "635.9083333333333\n"
     ]
    }
   ],
   "source": [
    "with open(\"./record.json\",'r') as load_f:\n",
    "     Qlearn_noEp = json.load(load_f)\n",
    "load_f.close()\n",
    "\n",
    "print(max(Qlearn_noEp.values()))\n",
    "\n",
    "Len = len( Qlearn_noEp )\n",
    "Sum = sum( Qlearn_noEp.values() )\n",
    "print(Sum/Len)\n",
    "# plt.plot(Qlearn_noEp.keys(), Qlearn_noEp.values())"
   ]
  },
  {
   "cell_type": "code",
   "execution_count": 3,
   "metadata": {
    "scrolled": true,
    "slideshow": {
     "slide_type": "-"
    }
   },
   "outputs": [
    {
     "name": "stdout",
     "output_type": "stream",
     "text": [
      "(1292, 2)\n",
      "13.85139318885449\n",
      "492\n",
      "72.42\n"
     ]
    }
   ],
   "source": [
    "DDQN = pd.read_csv('./logDeep.csv')\n",
    "print(DDQN.shape)\n",
    "max(DDQN['score'])\n",
    "Len = len( DDQN['score'] )\n",
    "Sum = sum( DDQN['score'] )\n",
    "print(Sum/Len)\n",
    "last = DDQN.tail(200)\n",
    "print(max(last['score']))\n",
    "Len = len( last['score'] )\n",
    "Sum = sum( last['score'] )\n",
    "print(Sum/Len)\n",
    "# plt.plot(DDQN['iteration'], DDQN['score'])\n",
    "# plt.savefig(\"DDQN_result.png\")"
   ]
  },
  {
   "cell_type": "code",
   "execution_count": null,
   "metadata": {},
   "outputs": [],
   "source": []
  }
 ],
 "metadata": {
  "celltoolbar": "幻灯片",
  "kernelspec": {
   "display_name": "Python 3",
   "language": "python",
   "name": "python3"
  },
  "language_info": {
   "codemirror_mode": {
    "name": "ipython",
    "version": 3
   },
   "file_extension": ".py",
   "mimetype": "text/x-python",
   "name": "python",
   "nbconvert_exporter": "python",
   "pygments_lexer": "ipython3",
   "version": "3.6.6"
  }
 },
 "nbformat": 4,
 "nbformat_minor": 2
}
